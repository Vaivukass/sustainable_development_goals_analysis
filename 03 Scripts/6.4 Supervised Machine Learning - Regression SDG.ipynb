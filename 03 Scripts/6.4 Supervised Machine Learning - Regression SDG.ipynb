{
 "cells": [
  {
   "cell_type": "markdown",
   "id": "4fd537b1",
   "metadata": {},
   "source": [
    "## Table of Contents\n",
    "* [1. Importing Libraries](#1.-Importing-Libraries)\n",
    "* [2. Importing Data](#2.-Importing-Data)\n",
    "* [3. Cleaning And Preparing Data](#3.-Cleaning-And-Preparing-Data)\n",
    "* [4. Regression Analysis](#4.-Regression-Analysis)"
   ]
  },
  {
   "cell_type": "markdown",
   "id": "0ea3c5b9",
   "metadata": {},
   "source": [
    "## 1. Importing Libraries"
   ]
  },
  {
   "cell_type": "code",
   "execution_count": 40,
   "id": "779d5acf",
   "metadata": {},
   "outputs": [],
   "source": [
    "import pandas as pd\n",
    "import numpy as np\n",
    "import seaborn as sns\n",
    "import matplotlib\n",
    "import matplotlib.pyplot as plt\n",
    "import os\n",
    "import sklearn\n",
    "from sklearn.model_selection import train_test_split \n",
    "from sklearn.linear_model import LinearRegression\n",
    "from sklearn.metrics import mean_squared_error, r2_score"
   ]
  },
  {
   "cell_type": "code",
   "execution_count": 41,
   "id": "50bcf2ba",
   "metadata": {},
   "outputs": [],
   "source": [
    "# This option ensures that the graphs you create are displayed within the notebook without the need to \"call\" them specifically.\n",
    "\n",
    "%matplotlib inline"
   ]
  },
  {
   "cell_type": "markdown",
   "id": "c0467234",
   "metadata": {},
   "source": [
    "## 2. Importing Data"
   ]
  },
  {
   "cell_type": "code",
   "execution_count": 42,
   "id": "812fe01c",
   "metadata": {},
   "outputs": [],
   "source": [
    "# Define path\n",
    "\n",
    "path = r'C:\\Users\\vaiva\\OneDrive\\Documents\\CareerFoundry\\Achievement 6 SDG'"
   ]
  },
  {
   "cell_type": "code",
   "execution_count": 43,
   "id": "0e30dee8",
   "metadata": {},
   "outputs": [],
   "source": [
    "# Import data\n",
    "\n",
    "df = pd.read_csv(os.path.join(path, '02 Data', 'Prepared Data','sdg_clean.csv'))"
   ]
  },
  {
   "cell_type": "markdown",
   "id": "d0e7d759",
   "metadata": {},
   "source": [
    "## 3. Cleaning And Preparing Data"
   ]
  },
  {
   "cell_type": "code",
   "execution_count": 44,
   "id": "05cc38d0",
   "metadata": {},
   "outputs": [
    {
     "data": {
      "text/html": [
       "<div>\n",
       "<style scoped>\n",
       "    .dataframe tbody tr th:only-of-type {\n",
       "        vertical-align: middle;\n",
       "    }\n",
       "\n",
       "    .dataframe tbody tr th {\n",
       "        vertical-align: top;\n",
       "    }\n",
       "\n",
       "    .dataframe thead th {\n",
       "        text-align: right;\n",
       "    }\n",
       "</style>\n",
       "<table border=\"1\" class=\"dataframe\">\n",
       "  <thead>\n",
       "    <tr style=\"text-align: right;\">\n",
       "      <th></th>\n",
       "      <th>Unnamed: 0</th>\n",
       "      <th>country</th>\n",
       "      <th>year</th>\n",
       "      <th>sdg_index</th>\n",
       "      <th>no_poverty</th>\n",
       "      <th>zero_hunger</th>\n",
       "      <th>good_health</th>\n",
       "      <th>quality_education</th>\n",
       "      <th>gender_equality</th>\n",
       "      <th>clean_water</th>\n",
       "      <th>...</th>\n",
       "      <th>economic_growth</th>\n",
       "      <th>infrastructure_innovation</th>\n",
       "      <th>reduced_inequalities</th>\n",
       "      <th>sustainable_cities</th>\n",
       "      <th>responsible_consumption</th>\n",
       "      <th>climate_action</th>\n",
       "      <th>underwater_life</th>\n",
       "      <th>land_life</th>\n",
       "      <th>peace_justice</th>\n",
       "      <th>partnerships</th>\n",
       "    </tr>\n",
       "  </thead>\n",
       "  <tbody>\n",
       "    <tr>\n",
       "      <th>0</th>\n",
       "      <td>0</td>\n",
       "      <td>Afghanistan</td>\n",
       "      <td>2000</td>\n",
       "      <td>36.0</td>\n",
       "      <td>28.8</td>\n",
       "      <td>27.3</td>\n",
       "      <td>19.2</td>\n",
       "      <td>1.6</td>\n",
       "      <td>20.8</td>\n",
       "      <td>32.4</td>\n",
       "      <td>...</td>\n",
       "      <td>38.5</td>\n",
       "      <td>5.2</td>\n",
       "      <td>0.0</td>\n",
       "      <td>25.8</td>\n",
       "      <td>94.7</td>\n",
       "      <td>99.4</td>\n",
       "      <td>0.0</td>\n",
       "      <td>51.9</td>\n",
       "      <td>39.2</td>\n",
       "      <td>34.2</td>\n",
       "    </tr>\n",
       "    <tr>\n",
       "      <th>1</th>\n",
       "      <td>1</td>\n",
       "      <td>Afghanistan</td>\n",
       "      <td>2001</td>\n",
       "      <td>36.3</td>\n",
       "      <td>28.8</td>\n",
       "      <td>30.6</td>\n",
       "      <td>19.4</td>\n",
       "      <td>1.6</td>\n",
       "      <td>20.8</td>\n",
       "      <td>32.4</td>\n",
       "      <td>...</td>\n",
       "      <td>38.5</td>\n",
       "      <td>5.2</td>\n",
       "      <td>0.0</td>\n",
       "      <td>25.8</td>\n",
       "      <td>94.5</td>\n",
       "      <td>99.4</td>\n",
       "      <td>0.0</td>\n",
       "      <td>51.9</td>\n",
       "      <td>39.2</td>\n",
       "      <td>34.2</td>\n",
       "    </tr>\n",
       "    <tr>\n",
       "      <th>2</th>\n",
       "      <td>2</td>\n",
       "      <td>Afghanistan</td>\n",
       "      <td>2002</td>\n",
       "      <td>36.3</td>\n",
       "      <td>28.8</td>\n",
       "      <td>30.7</td>\n",
       "      <td>19.7</td>\n",
       "      <td>1.6</td>\n",
       "      <td>20.8</td>\n",
       "      <td>32.7</td>\n",
       "      <td>...</td>\n",
       "      <td>38.4</td>\n",
       "      <td>5.2</td>\n",
       "      <td>0.0</td>\n",
       "      <td>26.1</td>\n",
       "      <td>94.1</td>\n",
       "      <td>99.4</td>\n",
       "      <td>0.0</td>\n",
       "      <td>51.8</td>\n",
       "      <td>39.2</td>\n",
       "      <td>34.2</td>\n",
       "    </tr>\n",
       "    <tr>\n",
       "      <th>3</th>\n",
       "      <td>3</td>\n",
       "      <td>Afghanistan</td>\n",
       "      <td>2003</td>\n",
       "      <td>36.7</td>\n",
       "      <td>28.8</td>\n",
       "      <td>32.5</td>\n",
       "      <td>19.9</td>\n",
       "      <td>1.6</td>\n",
       "      <td>20.8</td>\n",
       "      <td>33.0</td>\n",
       "      <td>...</td>\n",
       "      <td>38.4</td>\n",
       "      <td>5.2</td>\n",
       "      <td>0.0</td>\n",
       "      <td>26.5</td>\n",
       "      <td>94.4</td>\n",
       "      <td>99.4</td>\n",
       "      <td>0.0</td>\n",
       "      <td>51.8</td>\n",
       "      <td>39.2</td>\n",
       "      <td>34.2</td>\n",
       "    </tr>\n",
       "    <tr>\n",
       "      <th>4</th>\n",
       "      <td>4</td>\n",
       "      <td>Afghanistan</td>\n",
       "      <td>2004</td>\n",
       "      <td>37.1</td>\n",
       "      <td>28.8</td>\n",
       "      <td>32.1</td>\n",
       "      <td>21.1</td>\n",
       "      <td>1.6</td>\n",
       "      <td>20.8</td>\n",
       "      <td>33.3</td>\n",
       "      <td>...</td>\n",
       "      <td>38.5</td>\n",
       "      <td>5.2</td>\n",
       "      <td>0.0</td>\n",
       "      <td>26.8</td>\n",
       "      <td>94.8</td>\n",
       "      <td>99.4</td>\n",
       "      <td>0.0</td>\n",
       "      <td>51.8</td>\n",
       "      <td>39.2</td>\n",
       "      <td>34.2</td>\n",
       "    </tr>\n",
       "  </tbody>\n",
       "</table>\n",
       "<p>5 rows × 21 columns</p>\n",
       "</div>"
      ],
      "text/plain": [
       "   Unnamed: 0      country  year  sdg_index  no_poverty  zero_hunger  \\\n",
       "0           0  Afghanistan  2000       36.0        28.8         27.3   \n",
       "1           1  Afghanistan  2001       36.3        28.8         30.6   \n",
       "2           2  Afghanistan  2002       36.3        28.8         30.7   \n",
       "3           3  Afghanistan  2003       36.7        28.8         32.5   \n",
       "4           4  Afghanistan  2004       37.1        28.8         32.1   \n",
       "\n",
       "   good_health  quality_education  gender_equality  clean_water  ...  \\\n",
       "0         19.2                1.6             20.8         32.4  ...   \n",
       "1         19.4                1.6             20.8         32.4  ...   \n",
       "2         19.7                1.6             20.8         32.7  ...   \n",
       "3         19.9                1.6             20.8         33.0  ...   \n",
       "4         21.1                1.6             20.8         33.3  ...   \n",
       "\n",
       "   economic_growth  infrastructure_innovation  reduced_inequalities  \\\n",
       "0             38.5                        5.2                   0.0   \n",
       "1             38.5                        5.2                   0.0   \n",
       "2             38.4                        5.2                   0.0   \n",
       "3             38.4                        5.2                   0.0   \n",
       "4             38.5                        5.2                   0.0   \n",
       "\n",
       "   sustainable_cities  responsible_consumption  climate_action  \\\n",
       "0                25.8                     94.7            99.4   \n",
       "1                25.8                     94.5            99.4   \n",
       "2                26.1                     94.1            99.4   \n",
       "3                26.5                     94.4            99.4   \n",
       "4                26.8                     94.8            99.4   \n",
       "\n",
       "   underwater_life  land_life  peace_justice  partnerships  \n",
       "0              0.0       51.9           39.2          34.2  \n",
       "1              0.0       51.9           39.2          34.2  \n",
       "2              0.0       51.8           39.2          34.2  \n",
       "3              0.0       51.8           39.2          34.2  \n",
       "4              0.0       51.8           39.2          34.2  \n",
       "\n",
       "[5 rows x 21 columns]"
      ]
     },
     "execution_count": 44,
     "metadata": {},
     "output_type": "execute_result"
    }
   ],
   "source": [
    "df.head()"
   ]
  },
  {
   "cell_type": "code",
   "execution_count": 45,
   "id": "6aa6e187",
   "metadata": {},
   "outputs": [
    {
     "data": {
      "text/plain": [
       "(3818, 21)"
      ]
     },
     "execution_count": 45,
     "metadata": {},
     "output_type": "execute_result"
    }
   ],
   "source": [
    "df.shape"
   ]
  },
  {
   "cell_type": "code",
   "execution_count": 46,
   "id": "91bd784b",
   "metadata": {},
   "outputs": [],
   "source": [
    "# Dropping the 'Unnamed: 0' index column\n",
    "\n",
    "df = df.drop('Unnamed: 0', axis=1)"
   ]
  },
  {
   "cell_type": "code",
   "execution_count": 47,
   "id": "759bc363",
   "metadata": {},
   "outputs": [
    {
     "data": {
      "text/plain": [
       "Index(['country', 'year', 'sdg_index', 'no_poverty', 'zero_hunger',\n",
       "       'good_health', 'quality_education', 'gender_equality', 'clean_water',\n",
       "       'affordable_energy', 'economic_growth', 'infrastructure_innovation',\n",
       "       'reduced_inequalities', 'sustainable_cities', 'responsible_consumption',\n",
       "       'climate_action', 'underwater_life', 'land_life', 'peace_justice',\n",
       "       'partnerships'],\n",
       "      dtype='object')"
      ]
     },
     "execution_count": 47,
     "metadata": {},
     "output_type": "execute_result"
    }
   ],
   "source": [
    "df.columns"
   ]
  },
  {
   "cell_type": "markdown",
   "id": "acfdf95c",
   "metadata": {},
   "source": [
    "##### Missing values"
   ]
  },
  {
   "cell_type": "code",
   "execution_count": 48,
   "id": "21cfc8cb",
   "metadata": {},
   "outputs": [
    {
     "data": {
      "text/plain": [
       "country                      0\n",
       "year                         0\n",
       "sdg_index                    0\n",
       "no_poverty                   0\n",
       "zero_hunger                  0\n",
       "good_health                  0\n",
       "quality_education            0\n",
       "gender_equality              0\n",
       "clean_water                  0\n",
       "affordable_energy            0\n",
       "economic_growth              0\n",
       "infrastructure_innovation    0\n",
       "reduced_inequalities         0\n",
       "sustainable_cities           0\n",
       "responsible_consumption      0\n",
       "climate_action               0\n",
       "underwater_life              0\n",
       "land_life                    0\n",
       "peace_justice                0\n",
       "partnerships                 0\n",
       "dtype: int64"
      ]
     },
     "execution_count": 48,
     "metadata": {},
     "output_type": "execute_result"
    }
   ],
   "source": [
    "# Check for missing values\n",
    "\n",
    "df.isnull().sum()\n",
    "\n",
    "# No missing values to handle"
   ]
  },
  {
   "cell_type": "markdown",
   "id": "d7823bb4",
   "metadata": {},
   "source": [
    "##### Duplicates check"
   ]
  },
  {
   "cell_type": "code",
   "execution_count": 49,
   "id": "53a421b6",
   "metadata": {},
   "outputs": [],
   "source": [
    "dups = df.duplicated()"
   ]
  },
  {
   "cell_type": "code",
   "execution_count": 50,
   "id": "77c1c43b",
   "metadata": {},
   "outputs": [
    {
     "data": {
      "text/plain": [
       "(3818,)"
      ]
     },
     "execution_count": 50,
     "metadata": {},
     "output_type": "execute_result"
    }
   ],
   "source": [
    "dups.shape # No dups"
   ]
  },
  {
   "cell_type": "markdown",
   "id": "6173a937",
   "metadata": {},
   "source": [
    "##### Extreme values checks"
   ]
  },
  {
   "cell_type": "code",
   "execution_count": 51,
   "id": "dd1a8adf",
   "metadata": {},
   "outputs": [
    {
     "data": {
      "text/plain": [
       "<seaborn.axisgrid.FacetGrid at 0x1f05ea72850>"
      ]
     },
     "execution_count": 51,
     "metadata": {},
     "output_type": "execute_result"
    },
    {
     "data": {
      "image/png": "[encoded data removed]",
      "text/plain": [
       "<Figure size 500x500 with 1 Axes>"
      ]
     },
     "metadata": {},
     "output_type": "display_data"
    }
   ],
   "source": [
    "sns.displot(df['sdg_index'], bins=25) # Shows extreme values\n",
    "\n",
    "# No extreme values"
   ]
  },
  {
   "cell_type": "code",
   "execution_count": 52,
   "id": "7f903718",
   "metadata": {},
   "outputs": [
    {
     "data": {
      "text/plain": [
       "63.850288108957564"
      ]
     },
     "execution_count": 52,
     "metadata": {},
     "output_type": "execute_result"
    }
   ],
   "source": [
    "df['sdg_index'].mean() # Check the mean"
   ]
  },
  {
   "cell_type": "code",
   "execution_count": 53,
   "id": "53bd1771",
   "metadata": {},
   "outputs": [
    {
     "data": {
      "text/plain": [
       "65.4"
      ]
     },
     "execution_count": 53,
     "metadata": {},
     "output_type": "execute_result"
    }
   ],
   "source": [
    "df['sdg_index'].median() # Check the median"
   ]
  },
  {
   "cell_type": "code",
   "execution_count": 54,
   "id": "76e4e1f8",
   "metadata": {},
   "outputs": [
    {
     "data": {
      "text/plain": [
       "86.8"
      ]
     },
     "execution_count": 54,
     "metadata": {},
     "output_type": "execute_result"
    }
   ],
   "source": [
    "df['sdg_index'].max() # Check the max"
   ]
  },
  {
   "cell_type": "code",
   "execution_count": 55,
   "id": "076aea6a",
   "metadata": {},
   "outputs": [
    {
     "data": {
      "text/plain": [
       "36.0"
      ]
     },
     "execution_count": 55,
     "metadata": {},
     "output_type": "execute_result"
    }
   ],
   "source": [
    "df['sdg_index'].min() # Check the max"
   ]
  },
  {
   "cell_type": "markdown",
   "id": "13097606",
   "metadata": {},
   "source": [
    "### Data Prep for Regression Analysis"
   ]
  },
  {
   "cell_type": "markdown",
   "id": "1b2ac4a4",
   "metadata": {},
   "source": [
    "#### Since SDG Index and Goal 'Good Health' have the highest correlation, these are the variables I'll be looking into via regression analysis.\n",
    "#### Hypothesis: The higher the Good Health and Well-Being Goal score, the higher the SDG Index"
   ]
  },
  {
   "cell_type": "code",
   "execution_count": 56,
   "id": "2844a34d",
   "metadata": {},
   "outputs": [
    {
     "data": {
      "image/png": "[encoded data removed]",
      "text/plain": [
       "<Figure size 640x480 with 1 Axes>"
      ]
     },
     "metadata": {},
     "output_type": "display_data"
    }
   ],
   "source": [
    "# Create a scatterplot using matplotlib for another look at how the chosen variables plot against each other.\n",
    "\n",
    "df.plot(x = 'good_health', y='sdg_index',style='o') # The style option creates a scatterplot; without it, we only have lines.\n",
    "plt.title('Good Health And Well-Being vs SDG Index')  \n",
    "plt.xlabel('Good Health')  \n",
    "plt.ylabel('SDG Index')  \n",
    "plt.show()"
   ]
  },
  {
   "cell_type": "code",
   "execution_count": 57,
   "id": "8e6183d6",
   "metadata": {},
   "outputs": [],
   "source": [
    "# Reshape the variables into NumPy arrays and put them into separate objects.\n",
    "\n",
    "X = df['good_health'].values.reshape(-1,1)\n",
    "y = df['sdg_index'].values.reshape(-1,1)"
   ]
  },
  {
   "cell_type": "code",
   "execution_count": 58,
   "id": "2c10ee1f",
   "metadata": {},
   "outputs": [
    {
     "data": {
      "text/plain": [
       "array([[19.2],\n",
       "       [19.4],\n",
       "       [19.7],\n",
       "       ...,\n",
       "       [41.5],\n",
       "       [41.9],\n",
       "       [41.9]])"
      ]
     },
     "execution_count": 58,
     "metadata": {},
     "output_type": "execute_result"
    }
   ],
   "source": [
    "X"
   ]
  },
  {
   "cell_type": "code",
   "execution_count": 59,
   "id": "70d8283a",
   "metadata": {},
   "outputs": [
    {
     "data": {
      "text/plain": [
       "array([[36. ],\n",
       "       [36.3],\n",
       "       [36.3],\n",
       "       ...,\n",
       "       [54.3],\n",
       "       [54.8],\n",
       "       [55.6]])"
      ]
     },
     "execution_count": 59,
     "metadata": {},
     "output_type": "execute_result"
    }
   ],
   "source": [
    "y"
   ]
  },
  {
   "cell_type": "code",
   "execution_count": 60,
   "id": "d9925b3b",
   "metadata": {},
   "outputs": [],
   "source": [
    "# Split data into a training set and a test set.\n",
    "\n",
    "X_train, X_test, y_train, y_test = train_test_split(X, y, test_size=0.3, random_state=0)"
   ]
  },
  {
   "cell_type": "markdown",
   "id": "d36f6d60",
   "metadata": {},
   "source": [
    "## 4. Regression Analysis"
   ]
  },
  {
   "cell_type": "code",
   "execution_count": 61,
   "id": "94fd21b3",
   "metadata": {},
   "outputs": [],
   "source": [
    "# Create a regression object.\n",
    "\n",
    "regression = LinearRegression()  # This is the regression object, which will be fit onto the training set."
   ]
  },
  {
   "cell_type": "code",
   "execution_count": 62,
   "id": "cc116a51",
   "metadata": {},
   "outputs": [
    {
     "data": {
      "text/html": [
       "<style>#sk-container-id-2 {color: black;background-color: white;}#sk-container-id-2 pre{padding: 0;}#sk-container-id-2 div.sk-toggleable {background-color: white;}#sk-container-id-2 label.sk-toggleable__label {cursor: pointer;display: block;width: 100%;margin-bottom: 0;padding: 0.3em;box-sizing: border-box;text-align: center;}#sk-container-id-2 label.sk-toggleable__label-arrow:before {content: \"▸\";float: left;margin-right: 0.25em;color: #696969;}#sk-container-id-2 label.sk-toggleable__label-arrow:hover:before {color: black;}#sk-container-id-2 div.sk-estimator:hover label.sk-toggleable__label-arrow:before {color: black;}#sk-container-id-2 div.sk-toggleable__content {max-height: 0;max-width: 0;overflow: hidden;text-align: left;background-color: #f0f8ff;}#sk-container-id-2 div.sk-toggleable__content pre {margin: 0.2em;color: black;border-radius: 0.25em;background-color: #f0f8ff;}#sk-container-id-2 input.sk-toggleable__control:checked~div.sk-toggleable__content {max-height: 200px;max-width: 100%;overflow: auto;}#sk-container-id-2 input.sk-toggleable__control:checked~label.sk-toggleable__label-arrow:before {content: \"▾\";}#sk-container-id-2 div.sk-estimator input.sk-toggleable__control:checked~label.sk-toggleable__label {background-color: #d4ebff;}#sk-container-id-2 div.sk-label input.sk-toggleable__control:checked~label.sk-toggleable__label {background-color: #d4ebff;}#sk-container-id-2 input.sk-hidden--visually {border: 0;clip: rect(1px 1px 1px 1px);clip: rect(1px, 1px, 1px, 1px);height: 1px;margin: -1px;overflow: hidden;padding: 0;position: absolute;width: 1px;}#sk-container-id-2 div.sk-estimator {font-family: monospace;background-color: #f0f8ff;border: 1px dotted black;border-radius: 0.25em;box-sizing: border-box;margin-bottom: 0.5em;}#sk-container-id-2 div.sk-estimator:hover {background-color: #d4ebff;}#sk-container-id-2 div.sk-parallel-item::after {content: \"\";width: 100%;border-bottom: 1px solid gray;flex-grow: 1;}#sk-container-id-2 div.sk-label:hover label.sk-toggleable__label {background-color: #d4ebff;}#sk-container-id-2 div.sk-serial::before {content: \"\";position: absolute;border-left: 1px solid gray;box-sizing: border-box;top: 0;bottom: 0;left: 50%;z-index: 0;}#sk-container-id-2 div.sk-serial {display: flex;flex-direction: column;align-items: center;background-color: white;padding-right: 0.2em;padding-left: 0.2em;position: relative;}#sk-container-id-2 div.sk-item {position: relative;z-index: 1;}#sk-container-id-2 div.sk-parallel {display: flex;align-items: stretch;justify-content: center;background-color: white;position: relative;}#sk-container-id-2 div.sk-item::before, #sk-container-id-2 div.sk-parallel-item::before {content: \"\";position: absolute;border-left: 1px solid gray;box-sizing: border-box;top: 0;bottom: 0;left: 50%;z-index: -1;}#sk-container-id-2 div.sk-parallel-item {display: flex;flex-direction: column;z-index: 1;position: relative;background-color: white;}#sk-container-id-2 div.sk-parallel-item:first-child::after {align-self: flex-end;width: 50%;}#sk-container-id-2 div.sk-parallel-item:last-child::after {align-self: flex-start;width: 50%;}#sk-container-id-2 div.sk-parallel-item:only-child::after {width: 0;}#sk-container-id-2 div.sk-dashed-wrapped {border: 1px dashed gray;margin: 0 0.4em 0.5em 0.4em;box-sizing: border-box;padding-bottom: 0.4em;background-color: white;}#sk-container-id-2 div.sk-label label {font-family: monospace;font-weight: bold;display: inline-block;line-height: 1.2em;}#sk-container-id-2 div.sk-label-container {text-align: center;}#sk-container-id-2 div.sk-container {/* jupyter's `normalize.less` sets `[hidden] { display: none; }` but bootstrap.min.css set `[hidden] { display: none !important; }` so we also need the `!important` here to be able to override the default hidden behavior on the sphinx rendered scikit-learn.org. See: https://github.com/scikit-learn/scikit-learn/issues/21755 */display: inline-block !important;position: relative;}#sk-container-id-2 div.sk-text-repr-fallback {display: none;}</style><div id=\"sk-container-id-2\" class=\"sk-top-container\"><div class=\"sk-text-repr-fallback\"><pre>LinearRegression()</pre><b>In a Jupyter environment, please rerun this cell to show the HTML representation or trust the notebook. <br />On GitHub, the HTML representation is unable to render, please try loading this page with nbviewer.org.</b></div><div class=\"sk-container\" hidden><div class=\"sk-item\"><div class=\"sk-estimator sk-toggleable\"><input class=\"sk-toggleable__control sk-hidden--visually\" id=\"sk-estimator-id-2\" type=\"checkbox\" checked><label for=\"sk-estimator-id-2\" class=\"sk-toggleable__label sk-toggleable__label-arrow\">LinearRegression</label><div class=\"sk-toggleable__content\"><pre>LinearRegression()</pre></div></div></div></div></div>"
      ],
      "text/plain": [
       "LinearRegression()"
      ]
     },
     "execution_count": 62,
     "metadata": {},
     "output_type": "execute_result"
    }
   ],
   "source": [
    "# Fit the regression object onto the training set.\n",
    "\n",
    "regression.fit(X_train, y_train)"
   ]
  },
  {
   "cell_type": "code",
   "execution_count": 63,
   "id": "808ca849",
   "metadata": {},
   "outputs": [],
   "source": [
    "# Predict the values of y using X.\n",
    "\n",
    "y_predicted = regression.predict(X_test)"
   ]
  },
  {
   "cell_type": "code",
   "execution_count": 64,
   "id": "3bd095a6",
   "metadata": {},
   "outputs": [
    {
     "data": {
      "image/png": "[encoded data removed]",
      "text/plain": [
       "<Figure size 640x480 with 1 Axes>"
      ]
     },
     "metadata": {},
     "output_type": "display_data"
    }
   ],
   "source": [
    "# Create a plot that shows the regression line from the model on the test set.\n",
    "\n",
    "plot_test = plt\n",
    "plot_test.scatter(X_test, y_test, color='gray', s = 15)\n",
    "plot_test.plot(X_test, y_predicted, color='red', linewidth =3)\n",
    "plot_test.title('Good Health And Well-Being vs SDG Index (Test set)')\n",
    "plot_test.xlabel('Good Health')\n",
    "plot_test.ylabel('SDG Index')\n",
    "plot_test.show()"
   ]
  },
  {
   "cell_type": "markdown",
   "id": "b034112e",
   "metadata": {},
   "source": [
    "#### The line seems to fit fairly well, however, there are many points spread paralel to it, so it doesn't cover all of the points. Linear Regression indicates that the means of the data points are close to the regression line, even if some points are spread out."
   ]
  },
  {
   "cell_type": "code",
   "execution_count": 65,
   "id": "a35386ac",
   "metadata": {},
   "outputs": [],
   "source": [
    "# Create objects that contain the model summary statistics.\n",
    "\n",
    "rmse = mean_squared_error(y_test, y_predicted) # This is the mean squared error\n",
    "r2 = r2_score(y_test, y_predicted) # This is the R2 score. "
   ]
  },
  {
   "cell_type": "code",
   "execution_count": 66,
   "id": "35411066",
   "metadata": {},
   "outputs": [
    {
     "name": "stdout",
     "output_type": "stream",
     "text": [
      "Slope: [[0.43714454]]\n",
      "Mean squared error:  20.482203945441853\n",
      "R2 score:  0.8371733567736034\n"
     ]
    }
   ],
   "source": [
    "# Print the model summary statistics. This is where you evaluate the performance of the model.\n",
    "\n",
    "print('Slope:' ,regression.coef_)\n",
    "print('Mean squared error: ', rmse)\n",
    "print('R2 score: ', r2)"
   ]
  },
  {
   "cell_type": "code",
   "execution_count": 67,
   "id": "dfb562b2",
   "metadata": {},
   "outputs": [
    {
     "data": {
      "text/plain": [
       "0.9109922014414342"
      ]
     },
     "execution_count": 67,
     "metadata": {},
     "output_type": "execute_result"
    }
   ],
   "source": [
    "np.sqrt(0.8299067910871107)"
   ]
  },
  {
   "cell_type": "code",
   "execution_count": 68,
   "id": "5f24e8b5",
   "metadata": {},
   "outputs": [
    {
     "data": {
      "text/plain": [
       "array([[58.28607727],\n",
       "       [72.23098804],\n",
       "       [54.96377878],\n",
       "       ...,\n",
       "       [75.2035709 ],\n",
       "       [63.09466719],\n",
       "       [49.4557576 ]])"
      ]
     },
     "execution_count": 68,
     "metadata": {},
     "output_type": "execute_result"
    }
   ],
   "source": [
    "y_predicted"
   ]
  },
  {
   "cell_type": "code",
   "execution_count": 69,
   "id": "5662cbb7",
   "metadata": {},
   "outputs": [
    {
     "data": {
      "text/html": [
       "<div>\n",
       "<style scoped>\n",
       "    .dataframe tbody tr th:only-of-type {\n",
       "        vertical-align: middle;\n",
       "    }\n",
       "\n",
       "    .dataframe tbody tr th {\n",
       "        vertical-align: top;\n",
       "    }\n",
       "\n",
       "    .dataframe thead th {\n",
       "        text-align: right;\n",
       "    }\n",
       "</style>\n",
       "<table border=\"1\" class=\"dataframe\">\n",
       "  <thead>\n",
       "    <tr style=\"text-align: right;\">\n",
       "      <th></th>\n",
       "      <th>Actual</th>\n",
       "      <th>Predicted</th>\n",
       "    </tr>\n",
       "  </thead>\n",
       "  <tbody>\n",
       "    <tr>\n",
       "      <th>0</th>\n",
       "      <td>60.2</td>\n",
       "      <td>58.286077</td>\n",
       "    </tr>\n",
       "    <tr>\n",
       "      <th>1</th>\n",
       "      <td>68.6</td>\n",
       "      <td>72.230988</td>\n",
       "    </tr>\n",
       "    <tr>\n",
       "      <th>2</th>\n",
       "      <td>49.0</td>\n",
       "      <td>54.963779</td>\n",
       "    </tr>\n",
       "    <tr>\n",
       "      <th>3</th>\n",
       "      <td>60.0</td>\n",
       "      <td>57.542932</td>\n",
       "    </tr>\n",
       "    <tr>\n",
       "      <th>4</th>\n",
       "      <td>51.4</td>\n",
       "      <td>48.537754</td>\n",
       "    </tr>\n",
       "    <tr>\n",
       "      <th>5</th>\n",
       "      <td>73.5</td>\n",
       "      <td>71.531557</td>\n",
       "    </tr>\n",
       "    <tr>\n",
       "      <th>6</th>\n",
       "      <td>76.1</td>\n",
       "      <td>77.083292</td>\n",
       "    </tr>\n",
       "    <tr>\n",
       "      <th>7</th>\n",
       "      <td>82.0</td>\n",
       "      <td>76.209003</td>\n",
       "    </tr>\n",
       "    <tr>\n",
       "      <th>8</th>\n",
       "      <td>65.7</td>\n",
       "      <td>65.936107</td>\n",
       "    </tr>\n",
       "    <tr>\n",
       "      <th>9</th>\n",
       "      <td>43.6</td>\n",
       "      <td>41.499727</td>\n",
       "    </tr>\n",
       "    <tr>\n",
       "      <th>10</th>\n",
       "      <td>53.9</td>\n",
       "      <td>56.668642</td>\n",
       "    </tr>\n",
       "    <tr>\n",
       "      <th>11</th>\n",
       "      <td>45.3</td>\n",
       "      <td>47.576036</td>\n",
       "    </tr>\n",
       "    <tr>\n",
       "      <th>12</th>\n",
       "      <td>66.2</td>\n",
       "      <td>64.187529</td>\n",
       "    </tr>\n",
       "    <tr>\n",
       "      <th>13</th>\n",
       "      <td>66.5</td>\n",
       "      <td>66.416966</td>\n",
       "    </tr>\n",
       "    <tr>\n",
       "      <th>14</th>\n",
       "      <td>67.0</td>\n",
       "      <td>68.121829</td>\n",
       "    </tr>\n",
       "    <tr>\n",
       "      <th>15</th>\n",
       "      <td>60.4</td>\n",
       "      <td>53.171486</td>\n",
       "    </tr>\n",
       "    <tr>\n",
       "      <th>16</th>\n",
       "      <td>79.2</td>\n",
       "      <td>75.728144</td>\n",
       "    </tr>\n",
       "    <tr>\n",
       "      <th>17</th>\n",
       "      <td>55.1</td>\n",
       "      <td>67.291255</td>\n",
       "    </tr>\n",
       "    <tr>\n",
       "      <th>18</th>\n",
       "      <td>68.0</td>\n",
       "      <td>62.919809</td>\n",
       "    </tr>\n",
       "    <tr>\n",
       "      <th>19</th>\n",
       "      <td>70.5</td>\n",
       "      <td>70.744697</td>\n",
       "    </tr>\n",
       "    <tr>\n",
       "      <th>20</th>\n",
       "      <td>59.1</td>\n",
       "      <td>65.455248</td>\n",
       "    </tr>\n",
       "    <tr>\n",
       "      <th>21</th>\n",
       "      <td>59.4</td>\n",
       "      <td>51.772624</td>\n",
       "    </tr>\n",
       "    <tr>\n",
       "      <th>22</th>\n",
       "      <td>74.0</td>\n",
       "      <td>72.536989</td>\n",
       "    </tr>\n",
       "    <tr>\n",
       "      <th>23</th>\n",
       "      <td>79.3</td>\n",
       "      <td>75.116142</td>\n",
       "    </tr>\n",
       "    <tr>\n",
       "      <th>24</th>\n",
       "      <td>55.5</td>\n",
       "      <td>59.597511</td>\n",
       "    </tr>\n",
       "    <tr>\n",
       "      <th>25</th>\n",
       "      <td>67.0</td>\n",
       "      <td>70.001551</td>\n",
       "    </tr>\n",
       "    <tr>\n",
       "      <th>26</th>\n",
       "      <td>53.0</td>\n",
       "      <td>52.646913</td>\n",
       "    </tr>\n",
       "    <tr>\n",
       "      <th>27</th>\n",
       "      <td>70.7</td>\n",
       "      <td>68.777546</td>\n",
       "    </tr>\n",
       "    <tr>\n",
       "      <th>28</th>\n",
       "      <td>50.0</td>\n",
       "      <td>43.860308</td>\n",
       "    </tr>\n",
       "    <tr>\n",
       "      <th>29</th>\n",
       "      <td>66.5</td>\n",
       "      <td>64.624673</td>\n",
       "    </tr>\n",
       "  </tbody>\n",
       "</table>\n",
       "</div>"
      ],
      "text/plain": [
       "    Actual  Predicted\n",
       "0     60.2  58.286077\n",
       "1     68.6  72.230988\n",
       "2     49.0  54.963779\n",
       "3     60.0  57.542932\n",
       "4     51.4  48.537754\n",
       "5     73.5  71.531557\n",
       "6     76.1  77.083292\n",
       "7     82.0  76.209003\n",
       "8     65.7  65.936107\n",
       "9     43.6  41.499727\n",
       "10    53.9  56.668642\n",
       "11    45.3  47.576036\n",
       "12    66.2  64.187529\n",
       "13    66.5  66.416966\n",
       "14    67.0  68.121829\n",
       "15    60.4  53.171486\n",
       "16    79.2  75.728144\n",
       "17    55.1  67.291255\n",
       "18    68.0  62.919809\n",
       "19    70.5  70.744697\n",
       "20    59.1  65.455248\n",
       "21    59.4  51.772624\n",
       "22    74.0  72.536989\n",
       "23    79.3  75.116142\n",
       "24    55.5  59.597511\n",
       "25    67.0  70.001551\n",
       "26    53.0  52.646913\n",
       "27    70.7  68.777546\n",
       "28    50.0  43.860308\n",
       "29    66.5  64.624673"
      ]
     },
     "execution_count": 69,
     "metadata": {},
     "output_type": "execute_result"
    }
   ],
   "source": [
    "# Create a dataframe comparing the actual and predicted values of y.\n",
    "\n",
    "data = pd.DataFrame({'Actual': y_test.flatten(), 'Predicted': y_predicted.flatten()})\n",
    "data.head(30)"
   ]
  },
  {
   "cell_type": "markdown",
   "id": "ee52e000",
   "metadata": {},
   "source": [
    "#### The model summary statistics:\n",
    "\n",
    "Mean squared error:  20.869725694446725  \n",
    "R2 score:  0.8299067910871107\n",
    "\n",
    "The lower the MSE, the better fitting the model is. 20 is a pretty low number, indicating that the model is fitting the data.  \n",
    "R2 metric tells you how well the model explains the variance in the data, the closer to 0 the poorer fit. In our case. 0.8 is quite high.\n",
    "\n",
    "These metrics tell us that the model is a good fit.\n",
    "\n",
    "#### Actual vs Predicted\n",
    "\n",
    "Given the fact that there are so many data points that are outside of the regression line (visual inspection), we can see that the predicted numbers in the dataframe above are not as accurate as the metrics above might lead us to believe.  "
   ]
  },
  {
   "cell_type": "markdown",
   "id": "6f6d1e2f",
   "metadata": {},
   "source": [
    "##### Compare how the regression fits the training set"
   ]
  },
  {
   "cell_type": "code",
   "execution_count": 75,
   "id": "1c89f0d4",
   "metadata": {},
   "outputs": [],
   "source": [
    "# Predict.\n",
    "\n",
    "y_predicted_train = regression.predict(X_train) # This is predicting X_train!"
   ]
  },
  {
   "cell_type": "code",
   "execution_count": 76,
   "id": "676d6b05",
   "metadata": {},
   "outputs": [],
   "source": [
    "rmse = mean_squared_error(y_train, y_predicted_train)\n",
    "r2 = r2_score(y_train, y_predicted_train)"
   ]
  },
  {
   "cell_type": "code",
   "execution_count": 77,
   "id": "367dbcf4",
   "metadata": {},
   "outputs": [
    {
     "name": "stdout",
     "output_type": "stream",
     "text": [
      "Slope: [[0.43714454]]\n",
      "Mean squared error:  19.81708427577148\n",
      "R2 score:  0.8295383693828228\n"
     ]
    }
   ],
   "source": [
    "print('Slope:' ,regression.coef_)\n",
    "print('Mean squared error: ', rmse)\n",
    "print('R2 score: ', r2)"
   ]
  },
  {
   "cell_type": "code",
   "execution_count": 78,
   "id": "03794903",
   "metadata": {},
   "outputs": [
    {
     "data": {
      "image/png": "[encoded data removed]",
      "text/plain": [
       "<Figure size 640x480 with 1 Axes>"
      ]
     },
     "metadata": {},
     "output_type": "display_data"
    }
   ],
   "source": [
    "# Visualizing the training set results.\n",
    "\n",
    "plot_test = plt\n",
    "plot_test.scatter(X_train, y_train, color='green', s = 15)\n",
    "plot_test.plot(X_train, y_predicted_train, color='red', linewidth =3)\n",
    "plot_test.title('Good Health And Well-Being vs SDG Index (Train set)')\n",
    "plot_test.xlabel('Good Health')\n",
    "plot_test.ylabel('SDG Index')\n",
    "plot_test.show()"
   ]
  },
  {
   "cell_type": "markdown",
   "id": "6f599fc1",
   "metadata": {},
   "source": [
    "#### Comparing the Model performance on the Training Set With the Test Set\n",
    "\n",
    "Comparing the metrics, we can see that they are only slightly better on the training set than on the test set, which means that I didn't overfit the model."
   ]
  },
  {
   "cell_type": "markdown",
   "id": "f92460a5",
   "metadata": {},
   "source": [
    "#### Overall thoughts\n",
    "\n",
    "While looking at the pair plot (6.2 Exploring Relationships), there are several Goals that seem to have a linear relationship with the SDG Index, it would probably be beneficial to carry a out multiple regression analysis. However one of the prerequisites is for the independant variables not to correlate between each other, and in our case, most goals do. Which means that regression analysis is maybe not the best fit for this dataset. "
   ]
  }
 ],
 "metadata": {
  "kernelspec": {
   "display_name": "Python 3 (ipykernel)",
   "language": "python",
   "name": "python3"
  },
  "language_info": {
   "codemirror_mode": {
    "name": "ipython",
    "version": 3
   },
   "file_extension": ".py",
   "mimetype": "text/x-python",
   "name": "python",
   "nbconvert_exporter": "python",
   "pygments_lexer": "ipython3",
   "version": "3.11.3"
  }
 },
 "nbformat": 4,
 "nbformat_minor": 5
}
